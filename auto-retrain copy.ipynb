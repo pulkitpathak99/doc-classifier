{
 "cells": [
  {
   "cell_type": "code",
   "execution_count": 1,
   "metadata": {},
   "outputs": [
    {
     "name": "stdout",
     "output_type": "stream",
     "text": [
      "Requirement already satisfied: nltk in c:\\users\\dilshad\\appdata\\local\\programs\\python\\python310\\lib\\site-packages (3.8.1)\n",
      "Requirement already satisfied: click in c:\\users\\dilshad\\appdata\\local\\programs\\python\\python310\\lib\\site-packages (from nltk) (8.1.7)\n",
      "Requirement already satisfied: joblib in c:\\users\\dilshad\\appdata\\local\\programs\\python\\python310\\lib\\site-packages (from nltk) (1.3.2)\n",
      "Requirement already satisfied: regex>=2021.8.3 in c:\\users\\dilshad\\appdata\\local\\programs\\python\\python310\\lib\\site-packages (from nltk) (2023.12.25)\n",
      "Requirement already satisfied: tqdm in c:\\users\\dilshad\\appdata\\local\\programs\\python\\python310\\lib\\site-packages (from nltk) (4.66.1)\n",
      "Requirement already satisfied: colorama in c:\\users\\dilshad\\appdata\\roaming\\python\\python310\\site-packages (from click->nltk) (0.4.6)\n",
      "Note: you may need to restart the kernel to use updated packages.\n"
     ]
    },
    {
     "name": "stderr",
     "output_type": "stream",
     "text": [
      "\n",
      "[notice] A new release of pip is available: 23.3.2 -> 24.0\n",
      "[notice] To update, run: python.exe -m pip install --upgrade pip\n"
     ]
    }
   ],
   "source": [
    "%pip install nltk"
   ]
  },
  {
   "cell_type": "code",
   "execution_count": 3,
   "metadata": {},
   "outputs": [
    {
     "name": "stderr",
     "output_type": "stream",
     "text": [
      "[nltk_data] Downloading package punkt to\n",
      "[nltk_data]     C:\\Users\\Dilshad\\AppData\\Roaming\\nltk_data...\n",
      "[nltk_data]   Package punkt is already up-to-date!\n",
      "[nltk_data] Downloading package stopwords to\n",
      "[nltk_data]     C:\\Users\\Dilshad\\AppData\\Roaming\\nltk_data...\n",
      "[nltk_data]   Package stopwords is already up-to-date!\n"
     ]
    }
   ],
   "source": [
    "from sklearn.model_selection import train_test_split\n",
    "from creme import metrics\n",
    "import creme\n",
    "from creme import naive_bayes\n",
    "from creme import feature_extraction\n",
    "from creme import compose\n",
    "import math\n",
    "import pickle\n",
    "from nltk.stem.porter import PorterStemmer\n",
    "import string\n",
    "from nltk.corpus import stopwords\n",
    "import pandas as pd\n",
    "import nltk\n",
    "nltk.download('punkt')\n",
    "nltk.download('stopwords')\n",
    "# stopwords.words('english')\n",
    "# string.punctuation\n",
    "ps = PorterStemmer()\n",
    "# ps.stem('worries')\n",
    "import nltk"
   ]
  },
  {
   "cell_type": "code",
   "execution_count": null,
   "metadata": {},
   "outputs": [],
   "source": [
    "# Load the model from the file\n",
    "# with open('predict-doc.pkl', 'rb') as f:\n",
    "#     loaded_model = pickle.load(f)"
   ]
  },
  {
   "cell_type": "code",
   "execution_count": 4,
   "metadata": {},
   "outputs": [],
   "source": [
    "def transform_text(text):\n",
    "    text = text.lower()\n",
    "    text = nltk.word_tokenize(text)\n",
    "\n",
    "    y = []\n",
    "    for i in text:\n",
    "        if i.isalnum():\n",
    "            y.append(i)\n",
    "\n",
    "    text = y[:]\n",
    "    y.clear()\n",
    "\n",
    "    for i in text:\n",
    "        if i not in stopwords.words('english') and i not in string.punctuation:\n",
    "            y.append(i)\n",
    "\n",
    "    text = y[:]\n",
    "    y.clear()\n",
    "\n",
    "    for i in text:\n",
    "        y.append(ps.stem(i))\n",
    "\n",
    "    return \" \".join(y)"
   ]
  },
  {
   "cell_type": "code",
   "execution_count": 5,
   "metadata": {},
   "outputs": [],
   "source": [
    "def preprocesse_df(df):\n",
    "    df = df.dropna()\n",
    "    df.duplicated().sum()\n",
    "    df = df.drop_duplicates(keep='first')\n",
    "    df['transformed_content'] = df['content'].apply(transform_text)\n",
    "    processed_df = df[df['content'].str.len() >= 1000]\n",
    "\n",
    "    return processed_df"
   ]
  },
  {
   "cell_type": "code",
   "execution_count": 7,
   "metadata": {},
   "outputs": [
    {
     "name": "stdout",
     "output_type": "stream",
     "text": [
      "['Business Documents.csv' 'Creative Documents.csv'\n",
      " 'Educational Documents.csv' 'Financial Documents.csv'\n",
      " 'Govt Documents.csv' 'Legal Documents.csv' 'Medical Documents.csv'\n",
      " 'News Documents.csv' 'Scientific Documents.csv' 'Technical Documents.csv']\n"
     ]
    }
   ],
   "source": [
    "import os\n",
    "import numpy as np\n",
    "\n",
    "# Define the path to the train folder\n",
    "train_folder_path = './db/train/'\n",
    "\n",
    "# Get a list of all filenames in the train folder\n",
    "filenames = os.listdir(train_folder_path)\n",
    "\n",
    "# Filter out only the files (excluding directories)\n",
    "filenames = [filename for filename in filenames if os.path.isfile(\n",
    "    os.path.join(train_folder_path, filename))]\n",
    "\n",
    "# Convert the list of filenames to a NumPy array\n",
    "filenames_array = np.array(filenames)\n",
    "\n",
    "# Display the filenames array\n",
    "print(filenames_array)"
   ]
  },
  {
   "cell_type": "code",
   "execution_count": 10,
   "metadata": {},
   "outputs": [
    {
     "data": {
      "text/html": [
       "<div>\n",
       "<style scoped>\n",
       "    .dataframe tbody tr th:only-of-type {\n",
       "        vertical-align: middle;\n",
       "    }\n",
       "\n",
       "    .dataframe tbody tr th {\n",
       "        vertical-align: top;\n",
       "    }\n",
       "\n",
       "    .dataframe thead th {\n",
       "        text-align: right;\n",
       "    }\n",
       "</style>\n",
       "<table border=\"1\" class=\"dataframe\">\n",
       "  <thead>\n",
       "    <tr style=\"text-align: right;\">\n",
       "      <th></th>\n",
       "      <th>content</th>\n",
       "      <th>category</th>\n",
       "    </tr>\n",
       "  </thead>\n",
       "  <tbody>\n",
       "    <tr>\n",
       "      <th>0</th>\n",
       "      <td>Message-ID: &lt;24216240.1075855687451.JavaMail.e...</td>\n",
       "      <td>NaN</td>\n",
       "    </tr>\n",
       "    <tr>\n",
       "      <th>1</th>\n",
       "      <td>Message-ID: &lt;25140503.1075855687800.JavaMail.e...</td>\n",
       "      <td>NaN</td>\n",
       "    </tr>\n",
       "    <tr>\n",
       "      <th>2</th>\n",
       "      <td>Message-ID: &lt;19034252.1075855687825.JavaMail.e...</td>\n",
       "      <td>NaN</td>\n",
       "    </tr>\n",
       "    <tr>\n",
       "      <th>3</th>\n",
       "      <td>Message-ID: &lt;719350.1075855687850.JavaMail.eva...</td>\n",
       "      <td>NaN</td>\n",
       "    </tr>\n",
       "    <tr>\n",
       "      <th>4</th>\n",
       "      <td>Message-ID: &lt;10523086.1075855687873.JavaMail.e...</td>\n",
       "      <td>NaN</td>\n",
       "    </tr>\n",
       "    <tr>\n",
       "      <th>...</th>\n",
       "      <td>...</td>\n",
       "      <td>...</td>\n",
       "    </tr>\n",
       "    <tr>\n",
       "      <th>1011</th>\n",
       "      <td>Message-ID: &lt;15816310.1075855374294.JavaMail.e...</td>\n",
       "      <td>NaN</td>\n",
       "    </tr>\n",
       "    <tr>\n",
       "      <th>1012</th>\n",
       "      <td>Message-ID: &lt;6521706.1075855374316.JavaMail.ev...</td>\n",
       "      <td>NaN</td>\n",
       "    </tr>\n",
       "    <tr>\n",
       "      <th>1013</th>\n",
       "      <td>Message-ID: &lt;21543395.1075855374340.JavaMail.e...</td>\n",
       "      <td>NaN</td>\n",
       "    </tr>\n",
       "    <tr>\n",
       "      <th>1014</th>\n",
       "      <td>Message-ID: &lt;25363451.1075855374674.JavaMail.e...</td>\n",
       "      <td>NaN</td>\n",
       "    </tr>\n",
       "    <tr>\n",
       "      <th>1015</th>\n",
       "      <td>Subject: Inviting quotation\\nDear Sir,\\nWe are...</td>\n",
       "      <td>NaN</td>\n",
       "    </tr>\n",
       "  </tbody>\n",
       "</table>\n",
       "<p>1016 rows × 2 columns</p>\n",
       "</div>"
      ],
      "text/plain": [
       "                                                content  category\n",
       "0     Message-ID: <24216240.1075855687451.JavaMail.e...       NaN\n",
       "1     Message-ID: <25140503.1075855687800.JavaMail.e...       NaN\n",
       "2     Message-ID: <19034252.1075855687825.JavaMail.e...       NaN\n",
       "3     Message-ID: <719350.1075855687850.JavaMail.eva...       NaN\n",
       "4     Message-ID: <10523086.1075855687873.JavaMail.e...       NaN\n",
       "...                                                 ...       ...\n",
       "1011  Message-ID: <15816310.1075855374294.JavaMail.e...       NaN\n",
       "1012  Message-ID: <6521706.1075855374316.JavaMail.ev...       NaN\n",
       "1013  Message-ID: <21543395.1075855374340.JavaMail.e...       NaN\n",
       "1014  Message-ID: <25363451.1075855374674.JavaMail.e...       NaN\n",
       "1015  Subject: Inviting quotation\\nDear Sir,\\nWe are...       NaN\n",
       "\n",
       "[1016 rows x 2 columns]"
      ]
     },
     "execution_count": 10,
     "metadata": {},
     "output_type": "execute_result"
    }
   ],
   "source": [
    "df = pd.read_csv('./db/train/'+filenames_array[0])\n",
    "df"
   ]
  },
  {
   "cell_type": "code",
   "execution_count": null,
   "metadata": {},
   "outputs": [],
   "source": [
    "# Load the model from the file\n",
    "# with open('predict-doc2.pkl', 'rb') as f:\n",
    "#     loaded_model = pickle.load(f)\n",
    "\n",
    "model = compose.Pipeline(\n",
    "    ('tokenize', feature_extraction.TFIDF(lowercase=False)),\n",
    "    ('nb', naive_bayes.MultinomialNB(alpha=1))\n",
    ")\n",
    "\n",
    "# model = loaded_model"
   ]
  },
  {
   "cell_type": "code",
   "execution_count": 18,
   "metadata": {},
   "outputs": [],
   "source": [
    "# Initialize lists to store true and predicted labels\n",
    "true_labels = []\n",
    "predicted_labels = []"
   ]
  },
  {
   "cell_type": "code",
   "execution_count": 17,
   "metadata": {},
   "outputs": [
    {
     "name": "stdout",
     "output_type": "stream",
     "text": [
      "8 Scientific Documents.csv started\n",
      "(7, 2)\n",
      "Accuracy: 71.43%\n",
      "8 Scientific Documents.csv successful ------------------------------\n",
      "9 Technical Documents.csv started\n",
      "(10, 2)\n",
      "Accuracy: 100.00%\n",
      "9 Technical Documents.csv successful ------------------------------\n"
     ]
    }
   ],
   "source": [
    "for i,file in enumerate(filenames_array):\n",
    "    if i<=8:\n",
    "        continue\n",
    "    print(i, file, 'started')\n",
    "    df = pd.read_csv('./db/train/'+file)\n",
    "\n",
    "    if i==5:\n",
    "        del df['Unnamed: 2']\n",
    "        del df['Unnamed: 3']\n",
    "        del df['Legal Document']\n",
    "\n",
    "    if i==8:\n",
    "        df.loc[:, 'category'] = 'Scientific Research Paper'\n",
    "\n",
    "    # df.rename(columns={'Content': 'content',\n",
    "    #           'Category': 'category'}, inplace=True)\n",
    "    if file == 'Business Documents.csv':\n",
    "        df.loc[:, 'category'] = 'Business Documents'\n",
    "\n",
    "    new_df = preprocesse_df(df)\n",
    "\n",
    "    transformed_df = new_df[['transformed_content', 'category']]\n",
    "    print(transformed_df.shape)\n",
    "\n",
    "    # message_train, message_test = train_test_split(transformed_df)\n",
    "\n",
    "    messages_train = transformed_df.to_records(index=False)\n",
    "    # messages_test = message_test.to_records(index=False)\n",
    "\n",
    "    metric = metrics.Accuracy()\n",
    "    # Training the model row by row\n",
    "    for content, category in messages_train:\n",
    "        model = model.fit_one(content, category)\n",
    "        y_pred = model.predict_one(content)\n",
    "        metric = metric.update(category, y_pred)\n",
    "        true_labels.append(category)\n",
    "        predicted_labels.append(y_pred)\n",
    "    print(metric)\n",
    "\n",
    "    # # test Data Accuracy\n",
    "    # test_metric = metrics.Accuracy()\n",
    "    # for content, category in messages_test:\n",
    "    #     y_pred = model.predict_one(content)\n",
    "    #     test_metric = metric.update(category, y_pred)\n",
    "    # print(test_metric)\n",
    "\n",
    "    print(i, file, 'successful ------------------------------')"
   ]
  },
  {
   "cell_type": "code",
   "execution_count": null,
   "metadata": {},
   "outputs": [],
   "source": [
    "with open('predict-doc2.pkl', 'wb') as f:\n",
    "    pickle.dump(model, f)"
   ]
  }
 ],
 "metadata": {
  "kernelspec": {
   "display_name": "Python 3",
   "language": "python",
   "name": "python3"
  },
  "language_info": {
   "codemirror_mode": {
    "name": "ipython",
    "version": 3
   },
   "file_extension": ".py",
   "mimetype": "text/x-python",
   "name": "python",
   "nbconvert_exporter": "python",
   "pygments_lexer": "ipython3",
   "version": "3.10.6"
  }
 },
 "nbformat": 4,
 "nbformat_minor": 2
}
